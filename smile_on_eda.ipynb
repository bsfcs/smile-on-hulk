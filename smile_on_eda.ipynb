{
 "cells": [
  {
   "cell_type": "code",
   "execution_count": 152,
   "metadata": {},
   "outputs": [],
   "source": [
    "import pandas as pd\n",
    "import numpy as np\n",
    "import matplotlib.pyplot as plt\n",
    "import seaborn as sns\n",
    "%matplotlib inline"
   ]
  },
  {
   "cell_type": "code",
   "execution_count": 153,
   "metadata": {},
   "outputs": [
    {
     "name": "stderr",
     "output_type": "stream",
     "text": [
      "C:\\Users\\18285\\anaconda3\\lib\\site-packages\\IPython\\core\\interactiveshell.py:3071: DtypeWarning: Columns (32,36,53,59,88,89,127,141,144,156,157,158,159) have mixed types.Specify dtype option on import or set low_memory=False.\n",
      "  has_raised = await self.run_ast_nodes(code_ast.body, cell_name,\n"
     ]
    },
    {
     "data": {
      "text/html": [
       "<div>\n",
       "<style scoped>\n",
       "    .dataframe tbody tr th:only-of-type {\n",
       "        vertical-align: middle;\n",
       "    }\n",
       "\n",
       "    .dataframe tbody tr th {\n",
       "        vertical-align: top;\n",
       "    }\n",
       "\n",
       "    .dataframe thead th {\n",
       "        text-align: right;\n",
       "    }\n",
       "</style>\n",
       "<table border=\"1\" class=\"dataframe\">\n",
       "  <thead>\n",
       "    <tr style=\"text-align: right;\">\n",
       "      <th></th>\n",
       "      <th>CallReportNum</th>\n",
       "      <th>ReportVersion</th>\n",
       "      <th>LinkedToCallReportNum</th>\n",
       "      <th>CallDateAndTimeStart</th>\n",
       "      <th>CallDateAndTimeEnd</th>\n",
       "      <th>CallLength</th>\n",
       "      <th>CallerNum</th>\n",
       "      <th>PhoneWorkerNum</th>\n",
       "      <th>WasRealCall</th>\n",
       "      <th>WasHangup</th>\n",
       "      <th>...</th>\n",
       "      <th>SMILE ON 60+ Screening - Treatment Urgency</th>\n",
       "      <th>SMILE ON 60+ Screening - Untreated Decay</th>\n",
       "      <th>SMILE ON 60+ Site Information - Enroller ID</th>\n",
       "      <th>SMILE ON 60+ Site Information - Enroller Location</th>\n",
       "      <th>SMILE ON 60+ Treatment Plan - Action: Upload After Picture on Finish Tab</th>\n",
       "      <th>SMILE ON 60+ Treatment Plan - Is the treatment plan completed?</th>\n",
       "      <th>SMILE ON 60+ Treatment Plan - Was a treatment plan developed?</th>\n",
       "      <th>SMILE ON 60+ Treatment Plan - Was the enrollee able to be restored to function (can chew) and \"social six\" esthetics (top front six teeth are present and disease free)</th>\n",
       "      <th>SMILE ON 60+ Verification of Eligibility - Transportation Arranged</th>\n",
       "      <th>SMILE ON 60+ Verification of Eligibility - Verification of Eligibility</th>\n",
       "    </tr>\n",
       "  </thead>\n",
       "  <tbody>\n",
       "    <tr>\n",
       "      <th>0</th>\n",
       "      <td>81381827</td>\n",
       "      <td>SMILE ON 60+ Registration</td>\n",
       "      <td>NaN</td>\n",
       "      <td>11/25/2020 16:46</td>\n",
       "      <td>11/25/2020 16:48</td>\n",
       "      <td>2</td>\n",
       "      <td>3859874</td>\n",
       "      <td>136529</td>\n",
       "      <td>NaN</td>\n",
       "      <td>NaN</td>\n",
       "      <td>...</td>\n",
       "      <td>NaN</td>\n",
       "      <td>NaN</td>\n",
       "      <td>Matthew Walker Comprehensive Health Center Inc...</td>\n",
       "      <td>Provider Site</td>\n",
       "      <td>NaN</td>\n",
       "      <td>NaN</td>\n",
       "      <td>NaN</td>\n",
       "      <td>NaN</td>\n",
       "      <td>NaN</td>\n",
       "      <td>NaN</td>\n",
       "    </tr>\n",
       "    <tr>\n",
       "      <th>1</th>\n",
       "      <td>81379177</td>\n",
       "      <td>SMILE ON 60+ Registration</td>\n",
       "      <td>NaN</td>\n",
       "      <td>11/25/2020 15:40</td>\n",
       "      <td>11/25/2020 15:55</td>\n",
       "      <td>15</td>\n",
       "      <td>3859755</td>\n",
       "      <td>82341</td>\n",
       "      <td>NaN</td>\n",
       "      <td>NaN</td>\n",
       "      <td>...</td>\n",
       "      <td>NaN</td>\n",
       "      <td>NaN</td>\n",
       "      <td>NaN</td>\n",
       "      <td>Health Assist Office</td>\n",
       "      <td>NaN</td>\n",
       "      <td>NaN</td>\n",
       "      <td>NaN</td>\n",
       "      <td>NaN</td>\n",
       "      <td>NaN</td>\n",
       "      <td>NaN</td>\n",
       "    </tr>\n",
       "  </tbody>\n",
       "</table>\n",
       "<p>2 rows × 184 columns</p>\n",
       "</div>"
      ],
      "text/plain": [
       "   CallReportNum              ReportVersion  LinkedToCallReportNum  \\\n",
       "0       81381827  SMILE ON 60+ Registration                    NaN   \n",
       "1       81379177  SMILE ON 60+ Registration                    NaN   \n",
       "\n",
       "  CallDateAndTimeStart CallDateAndTimeEnd  CallLength  CallerNum  \\\n",
       "0     11/25/2020 16:46   11/25/2020 16:48           2    3859874   \n",
       "1     11/25/2020 15:40   11/25/2020 15:55          15    3859755   \n",
       "\n",
       "   PhoneWorkerNum  WasRealCall  WasHangup  ...  \\\n",
       "0          136529          NaN        NaN  ...   \n",
       "1           82341          NaN        NaN  ...   \n",
       "\n",
       "   SMILE ON 60+ Screening - Treatment Urgency  \\\n",
       "0                                         NaN   \n",
       "1                                         NaN   \n",
       "\n",
       "   SMILE ON 60+ Screening - Untreated Decay  \\\n",
       "0                                       NaN   \n",
       "1                                       NaN   \n",
       "\n",
       "         SMILE ON 60+ Site Information - Enroller ID  \\\n",
       "0  Matthew Walker Comprehensive Health Center Inc...   \n",
       "1                                                NaN   \n",
       "\n",
       "   SMILE ON 60+ Site Information - Enroller Location  \\\n",
       "0                                      Provider Site   \n",
       "1                               Health Assist Office   \n",
       "\n",
       "   SMILE ON 60+ Treatment Plan - Action: Upload After Picture on Finish Tab  \\\n",
       "0                                                NaN                          \n",
       "1                                                NaN                          \n",
       "\n",
       "   SMILE ON 60+ Treatment Plan - Is the treatment plan completed?  \\\n",
       "0                                                NaN                \n",
       "1                                                NaN                \n",
       "\n",
       "  SMILE ON 60+ Treatment Plan - Was a treatment plan developed?  \\\n",
       "0                                                NaN              \n",
       "1                                                NaN              \n",
       "\n",
       "  SMILE ON 60+ Treatment Plan - Was the enrollee able to be restored to function (can chew) and \"social six\" esthetics (top front six teeth are present and disease free)  \\\n",
       "0                                                NaN                                                                                                                        \n",
       "1                                                NaN                                                                                                                        \n",
       "\n",
       "  SMILE ON 60+ Verification of Eligibility - Transportation Arranged  \\\n",
       "0                                                NaN                   \n",
       "1                                                NaN                   \n",
       "\n",
       "  SMILE ON 60+ Verification of Eligibility - Verification of Eligibility  \n",
       "0                                                NaN                      \n",
       "1                                                NaN                      \n",
       "\n",
       "[2 rows x 184 columns]"
      ]
     },
     "execution_count": 153,
     "metadata": {},
     "output_type": "execute_result"
    }
   ],
   "source": [
    "smile= pd.read_csv('data/SmileOn11.28.2020.csv',encoding = \"ISO-8859-1\")\n",
    "smile.head(2)"
   ]
  },
  {
   "cell_type": "code",
   "execution_count": 166,
   "metadata": {},
   "outputs": [],
   "source": [
    "smile_small = pd.DataFrame() "
   ]
  },
  {
   "cell_type": "code",
   "execution_count": 167,
   "metadata": {},
   "outputs": [],
   "source": [
    "smile_small['ID'] = smile['CallerNum']"
   ]
  },
  {
   "cell_type": "code",
   "execution_count": 168,
   "metadata": {},
   "outputs": [],
   "source": [
    "smile_small['last_screening'] = smile['SMILE ON 60+ Screening - Last Screening Date']"
   ]
  },
  {
   "cell_type": "code",
   "execution_count": 169,
   "metadata": {},
   "outputs": [],
   "source": [
    "smile_small['care_provided'] = smile['SMILE ON 60+ Oral Care Encounter - What care was provided to the enrollee? (Select all that apply)']"
   ]
  },
  {
   "cell_type": "code",
   "execution_count": 170,
   "metadata": {},
   "outputs": [],
   "source": [
    "smile_small['clinic'] = smile['SMILE ON 60+ Site Information - Enroller ID']"
   ]
  },
  {
   "cell_type": "code",
   "execution_count": 171,
   "metadata": {},
   "outputs": [],
   "source": [
    "smile_small['plan_completed'] = smile['SMILE ON 60+ Treatment Plan - Is the treatment plan completed?']"
   ]
  },
  {
   "cell_type": "code",
   "execution_count": 172,
   "metadata": {},
   "outputs": [],
   "source": [
    "smile_small['plan_developed'] = smile['SMILE ON 60+ Treatment Plan - Was a treatment plan developed?']"
   ]
  },
  {
   "cell_type": "code",
   "execution_count": 173,
   "metadata": {},
   "outputs": [],
   "source": [
    "smile_small['function_restored'] = smile['SMILE ON 60+ Treatment Plan - Was the enrollee able to be restored to function (can chew) and \"social six\" esthetics (top front six teeth are present and disease free)']"
   ]
  },
  {
   "cell_type": "code",
   "execution_count": 174,
   "metadata": {},
   "outputs": [],
   "source": [
    "smile_small['last_visit'] = smile['SMILE ON 60+ Demographic Information - When is the last time you visited your dentist?']"
   ]
  },
  {
   "cell_type": "code",
   "execution_count": 175,
   "metadata": {},
   "outputs": [],
   "source": [
    "smile_small['trans_arranged'] = smile['SMILE ON 60+ Verification of Eligibility - Transportation Arranged']"
   ]
  },
  {
   "cell_type": "code",
   "execution_count": 177,
   "metadata": {},
   "outputs": [],
   "source": [
    "smile_small['eligible'] = smile['SMILE ON 60+ Verification of Eligibility - Verification of Eligibility']"
   ]
  },
  {
   "cell_type": "code",
   "execution_count": 185,
   "metadata": {},
   "outputs": [],
   "source": [
    "smile_small['trans_provided'] = smile['SMILE ON 60+ Clinic Information - Was initial transportation assistance or referral provided?']"
   ]
  },
  {
   "cell_type": "code",
   "execution_count": 186,
   "metadata": {},
   "outputs": [
    {
     "data": {
      "text/html": [
       "<div>\n",
       "<style scoped>\n",
       "    .dataframe tbody tr th:only-of-type {\n",
       "        vertical-align: middle;\n",
       "    }\n",
       "\n",
       "    .dataframe tbody tr th {\n",
       "        vertical-align: top;\n",
       "    }\n",
       "\n",
       "    .dataframe thead th {\n",
       "        text-align: right;\n",
       "    }\n",
       "</style>\n",
       "<table border=\"1\" class=\"dataframe\">\n",
       "  <thead>\n",
       "    <tr style=\"text-align: right;\">\n",
       "      <th></th>\n",
       "      <th>ID</th>\n",
       "      <th>last_screening</th>\n",
       "      <th>care_provided</th>\n",
       "      <th>clinic</th>\n",
       "      <th>plan_completed</th>\n",
       "      <th>plan_developed</th>\n",
       "      <th>function_restored</th>\n",
       "      <th>last_visit</th>\n",
       "      <th>trans_arranged</th>\n",
       "      <th>eligible</th>\n",
       "      <th>trans_provided</th>\n",
       "    </tr>\n",
       "  </thead>\n",
       "  <tbody>\n",
       "    <tr>\n",
       "      <th>0</th>\n",
       "      <td>3859874</td>\n",
       "      <td>NaN</td>\n",
       "      <td>NaN</td>\n",
       "      <td>Matthew Walker Comprehensive Health Center Inc...</td>\n",
       "      <td>NaN</td>\n",
       "      <td>NaN</td>\n",
       "      <td>NaN</td>\n",
       "      <td>3 to 5 years</td>\n",
       "      <td>NaN</td>\n",
       "      <td>NaN</td>\n",
       "      <td>NaN</td>\n",
       "    </tr>\n",
       "    <tr>\n",
       "      <th>1</th>\n",
       "      <td>3859755</td>\n",
       "      <td>NaN</td>\n",
       "      <td>NaN</td>\n",
       "      <td>NaN</td>\n",
       "      <td>NaN</td>\n",
       "      <td>NaN</td>\n",
       "      <td>NaN</td>\n",
       "      <td>3 to 5 years</td>\n",
       "      <td>NaN</td>\n",
       "      <td>NaN</td>\n",
       "      <td>NaN</td>\n",
       "    </tr>\n",
       "    <tr>\n",
       "      <th>2</th>\n",
       "      <td>2518680</td>\n",
       "      <td>NaN</td>\n",
       "      <td>5650 - Add tooth to existing partial denture - 30</td>\n",
       "      <td>Friends in Need Health Center - Kingsport</td>\n",
       "      <td>Yes</td>\n",
       "      <td>Yes</td>\n",
       "      <td>Yes</td>\n",
       "      <td>Less than 12 months</td>\n",
       "      <td>NaN</td>\n",
       "      <td>NaN</td>\n",
       "      <td>NaN</td>\n",
       "    </tr>\n",
       "    <tr>\n",
       "      <th>3</th>\n",
       "      <td>3231923</td>\n",
       "      <td>NaN</td>\n",
       "      <td>No Code - Denture step Mandibular: may be used...</td>\n",
       "      <td>Christ Community Health Services- Frayser</td>\n",
       "      <td>NaN</td>\n",
       "      <td>NaN</td>\n",
       "      <td>NaN</td>\n",
       "      <td>Less than 12 months</td>\n",
       "      <td>NaN</td>\n",
       "      <td>NaN</td>\n",
       "      <td>NaN</td>\n",
       "    </tr>\n",
       "    <tr>\n",
       "      <th>4</th>\n",
       "      <td>-1</td>\n",
       "      <td>11/25/2020</td>\n",
       "      <td>NaN</td>\n",
       "      <td>Neighborhood Health - Lebanon</td>\n",
       "      <td>NaN</td>\n",
       "      <td>Yes</td>\n",
       "      <td>No</td>\n",
       "      <td>NaN</td>\n",
       "      <td>NaN</td>\n",
       "      <td>Yes</td>\n",
       "      <td>NaN</td>\n",
       "    </tr>\n",
       "  </tbody>\n",
       "</table>\n",
       "</div>"
      ],
      "text/plain": [
       "        ID last_screening                                      care_provided  \\\n",
       "0  3859874            NaN                                                NaN   \n",
       "1  3859755            NaN                                                NaN   \n",
       "2  2518680            NaN  5650 - Add tooth to existing partial denture - 30   \n",
       "3  3231923            NaN  No Code - Denture step Mandibular: may be used...   \n",
       "4       -1     11/25/2020                                                NaN   \n",
       "\n",
       "                                              clinic plan_completed  \\\n",
       "0  Matthew Walker Comprehensive Health Center Inc...            NaN   \n",
       "1                                                NaN            NaN   \n",
       "2          Friends in Need Health Center - Kingsport            Yes   \n",
       "3          Christ Community Health Services- Frayser            NaN   \n",
       "4                      Neighborhood Health - Lebanon            NaN   \n",
       "\n",
       "  plan_developed function_restored           last_visit trans_arranged  \\\n",
       "0            NaN               NaN         3 to 5 years            NaN   \n",
       "1            NaN               NaN         3 to 5 years            NaN   \n",
       "2            Yes               Yes  Less than 12 months            NaN   \n",
       "3            NaN               NaN  Less than 12 months            NaN   \n",
       "4            Yes                No                  NaN            NaN   \n",
       "\n",
       "  eligible trans_provided  \n",
       "0      NaN            NaN  \n",
       "1      NaN            NaN  \n",
       "2      NaN            NaN  \n",
       "3      NaN            NaN  \n",
       "4      Yes            NaN  "
      ]
     },
     "execution_count": 186,
     "metadata": {},
     "output_type": "execute_result"
    }
   ],
   "source": [
    "smile_small.head()"
   ]
  },
  {
   "cell_type": "code",
   "execution_count": 144,
   "metadata": {},
   "outputs": [
    {
     "data": {
      "text/plain": [
       "No     8127\n",
       "Yes    6149\n",
       "Name: function_restored, dtype: int64"
      ]
     },
     "execution_count": 144,
     "metadata": {},
     "output_type": "execute_result"
    }
   ],
   "source": [
    "smile_small.function_restored.value_counts()"
   ]
  },
  {
   "cell_type": "code",
   "execution_count": 187,
   "metadata": {},
   "outputs": [
    {
     "data": {
      "text/plain": [
       "No     3600\n",
       "Yes     175\n",
       "Name: trans_provided, dtype: int64"
      ]
     },
     "execution_count": 187,
     "metadata": {},
     "output_type": "execute_result"
    }
   ],
   "source": [
    "smile_small.trans_provided.value_counts()"
   ]
  },
  {
   "cell_type": "code",
   "execution_count": 145,
   "metadata": {},
   "outputs": [
    {
     "data": {
      "text/plain": [
       "-1          70\n",
       " 2441776    36\n",
       " 2431132    31\n",
       " 2416076    29\n",
       " 2466994    28\n",
       "            ..\n",
       " 3825101     1\n",
       " 3743280     1\n",
       " 2653820     1\n",
       " 3686036     1\n",
       " 3821558     1\n",
       "Name: ID, Length: 8708, dtype: int64"
      ]
     },
     "execution_count": 145,
     "metadata": {},
     "output_type": "execute_result"
    }
   ],
   "source": [
    "smile_small.ID.value_counts()"
   ]
  },
  {
   "cell_type": "code",
   "execution_count": 180,
   "metadata": {},
   "outputs": [
    {
     "data": {
      "text/plain": [
       "No Code - Denture step Mandibular: may be used for impressions try-in or delivery visits during fabrication up to 3 uses per denture - 20; No Code - Denture step Maxillary: may be used for impressions try-in or delivery visits during fabrication up to 3 uses per denture - 20                                                                                                                                          3925\n",
       "7140 - Extraction - erupted tooth or exposed root - 15                                                                                                                                                                                                                                                                                                                                                                       1710\n",
       "No Code - Denture step Maxillary: may be used for impressions try-in or delivery visits during fabrication up to 3 uses per denture - 20                                                                                                                                                                                                                                                                                      646\n",
       "No Code - Denture step Mandibular: may be used for impressions try-in or delivery visits during fabrication up to 3 uses per denture - 20                                                                                                                                                                                                                                                                                     606\n",
       "1110 - Prophylaxis-adult - 45; 1330 - Oral Hygiene Instructions - ; 1206 - application of topical flouride varnish - 5                                                                                                                                                                                                                                                                                                        469\n",
       "                                                                                                                                                                                                                                                                                                                                                                                                                             ... \n",
       "1206 - application of topical flouride varnish - 5; 2330 - Resin one surface - Anterior - 15; 2331 - Resin two surfaces - Anterior - 15; 4341 - Periodontal scaling/root planing 4+ teeth per quadrant - 45                                                                                                                                                                                                                     1\n",
       "180 - Comprehensive Periodontal Evaluation - 15; 1330 - Oral Hygiene Instructions - ; 1206 - application of topical flouride varnish - 5; 1354 - Interim caries arresting medicament application (silver ion products) per tooth - 5; 4341 - Periodontal scaling/root planing 4+ teeth per quadrant - 45; 9230 - Inhalation of nitrous oxide/analgesia anxiolysis - 15                                                          1\n",
       "150 - Comprehensive Oral Evaluation -new or established patient - 30; 274 - Bitewings - four films - 5; 275 - Bitewings - Each additional film - 5; 330 - Panoramic film - 5; 1330 - Oral Hygiene Instructions -                                                                                                                                                                                                                1\n",
       "No Code - Denture step Mandibular: may be used for impressions try-in or delivery visits during fabrication up to 3 uses per denture - 20; 1330 - Oral Hygiene Instructions - ; 2335 - Resin four surfaces or w incis - Anterior - 15; 4910 - Periodontal maint procedures - 45; No Code - Denture step Maxillary: may be used for impressions try-in or delivery visits during fabrication up to 3 uses per denture - 20       1\n",
       "150 - Comprehensive Oral Evaluation -new or established patient - 30; 220 - Intraoral - Periapical First Film - 5; 230 - Intraoral-Periapical Each Additional film - 5; 330 - Panoramic film - 5; 1354 - Interim caries arresting medicament application (silver ion products) per tooth - 5; 5212 - Partial denture -resin base-mandible - 60; 5221 - Partial denture - resin base - immediate maxillary - 60                  1\n",
       "Name: care_provided, Length: 3512, dtype: int64"
      ]
     },
     "execution_count": 180,
     "metadata": {},
     "output_type": "execute_result"
    }
   ],
   "source": [
    "smile_small.care_provided.value_counts()"
   ]
  },
  {
   "cell_type": "code",
   "execution_count": 146,
   "metadata": {},
   "outputs": [
    {
     "data": {
      "text/plain": [
       "No     12431\n",
       "Yes     5104\n",
       "Name: plan_completed, dtype: int64"
      ]
     },
     "execution_count": 146,
     "metadata": {},
     "output_type": "execute_result"
    }
   ],
   "source": [
    "smile_small.plan_completed.value_counts()"
   ]
  },
  {
   "cell_type": "code",
   "execution_count": 147,
   "metadata": {},
   "outputs": [
    {
     "data": {
      "text/plain": [
       "Yes    15930\n",
       "No      1098\n",
       "Name: plan_developed, dtype: int64"
      ]
     },
     "execution_count": 147,
     "metadata": {},
     "output_type": "execute_result"
    }
   ],
   "source": [
    "smile_small.plan_developed.value_counts()"
   ]
  },
  {
   "cell_type": "code",
   "execution_count": 148,
   "metadata": {},
   "outputs": [
    {
     "data": {
      "text/plain": [
       "Less than 12 months    16751\n",
       "More than 5 years       8533\n",
       "1 to 2 years            7077\n",
       "3 to 5 years            4863\n",
       "Name: last_visit, dtype: int64"
      ]
     },
     "execution_count": 148,
     "metadata": {},
     "output_type": "execute_result"
    }
   ],
   "source": [
    "smile_small.last_visit.value_counts()"
   ]
  },
  {
   "cell_type": "code",
   "execution_count": 179,
   "metadata": {},
   "outputs": [
    {
     "data": {
      "text/plain": [
       "No     5483\n",
       "Yes     342\n",
       "Name: trans_arranged, dtype: int64"
      ]
     },
     "execution_count": 179,
     "metadata": {},
     "output_type": "execute_result"
    }
   ],
   "source": [
    "smile_small.trans_arranged.value_counts()"
   ]
  },
  {
   "cell_type": "code",
   "execution_count": 149,
   "metadata": {},
   "outputs": [],
   "source": [
    "call_count = smile_small['ID'].value_counts().rename_axis('ID').reset_index(name='counts')"
   ]
  },
  {
   "cell_type": "code",
   "execution_count": 150,
   "metadata": {},
   "outputs": [
    {
     "data": {
      "text/html": [
       "<div>\n",
       "<style scoped>\n",
       "    .dataframe tbody tr th:only-of-type {\n",
       "        vertical-align: middle;\n",
       "    }\n",
       "\n",
       "    .dataframe tbody tr th {\n",
       "        vertical-align: top;\n",
       "    }\n",
       "\n",
       "    .dataframe thead th {\n",
       "        text-align: right;\n",
       "    }\n",
       "</style>\n",
       "<table border=\"1\" class=\"dataframe\">\n",
       "  <thead>\n",
       "    <tr style=\"text-align: right;\">\n",
       "      <th></th>\n",
       "      <th>ID</th>\n",
       "      <th>counts</th>\n",
       "    </tr>\n",
       "  </thead>\n",
       "  <tbody>\n",
       "    <tr>\n",
       "      <th>0</th>\n",
       "      <td>-1</td>\n",
       "      <td>70</td>\n",
       "    </tr>\n",
       "    <tr>\n",
       "      <th>1</th>\n",
       "      <td>2441776</td>\n",
       "      <td>36</td>\n",
       "    </tr>\n",
       "    <tr>\n",
       "      <th>2</th>\n",
       "      <td>2431132</td>\n",
       "      <td>31</td>\n",
       "    </tr>\n",
       "    <tr>\n",
       "      <th>3</th>\n",
       "      <td>2416076</td>\n",
       "      <td>29</td>\n",
       "    </tr>\n",
       "    <tr>\n",
       "      <th>4</th>\n",
       "      <td>2466994</td>\n",
       "      <td>28</td>\n",
       "    </tr>\n",
       "  </tbody>\n",
       "</table>\n",
       "</div>"
      ],
      "text/plain": [
       "        ID  counts\n",
       "0       -1      70\n",
       "1  2441776      36\n",
       "2  2431132      31\n",
       "3  2416076      29\n",
       "4  2466994      28"
      ]
     },
     "execution_count": 150,
     "metadata": {},
     "output_type": "execute_result"
    }
   ],
   "source": [
    "call_count.head()"
   ]
  },
  {
   "cell_type": "code",
   "execution_count": null,
   "metadata": {},
   "outputs": [],
   "source": []
  },
  {
   "cell_type": "code",
   "execution_count": null,
   "metadata": {},
   "outputs": [],
   "source": []
  },
  {
   "cell_type": "code",
   "execution_count": null,
   "metadata": {},
   "outputs": [],
   "source": []
  },
  {
   "cell_type": "code",
   "execution_count": null,
   "metadata": {},
   "outputs": [],
   "source": []
  }
 ],
 "metadata": {
  "kernelspec": {
   "display_name": "Python 3",
   "language": "python",
   "name": "python3"
  },
  "language_info": {
   "codemirror_mode": {
    "name": "ipython",
    "version": 3
   },
   "file_extension": ".py",
   "mimetype": "text/x-python",
   "name": "python",
   "nbconvert_exporter": "python",
   "pygments_lexer": "ipython3",
   "version": "3.8.3"
  }
 },
 "nbformat": 4,
 "nbformat_minor": 4
}
