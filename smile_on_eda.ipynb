{
 "cells": [
  {
   "cell_type": "code",
   "execution_count": 1,
   "metadata": {},
   "outputs": [],
   "source": [
    "import pandas as pd\n",
    "import numpy as np\n",
    "import matplotlib.pyplot as plt\n",
    "import seaborn as sns\n",
    "%matplotlib inline"
   ]
  },
  {
   "cell_type": "markdown",
   "metadata": {},
   "source": [
    "# Reading in SmileOn Data"
   ]
  },
  {
   "cell_type": "code",
   "execution_count": 16,
   "metadata": {},
   "outputs": [
    {
     "name": "stderr",
     "output_type": "stream",
     "text": [
      "C:\\Users\\18285\\anaconda3\\lib\\site-packages\\IPython\\core\\interactiveshell.py:3071: DtypeWarning: Columns (32,36,53,59,88,89,127,141,144,156,157,158,159) have mixed types.Specify dtype option on import or set low_memory=False.\n",
      "  has_raised = await self.run_ast_nodes(code_ast.body, cell_name,\n"
     ]
    },
    {
     "data": {
      "text/html": [
       "<div>\n",
       "<style scoped>\n",
       "    .dataframe tbody tr th:only-of-type {\n",
       "        vertical-align: middle;\n",
       "    }\n",
       "\n",
       "    .dataframe tbody tr th {\n",
       "        vertical-align: top;\n",
       "    }\n",
       "\n",
       "    .dataframe thead th {\n",
       "        text-align: right;\n",
       "    }\n",
       "</style>\n",
       "<table border=\"1\" class=\"dataframe\">\n",
       "  <thead>\n",
       "    <tr style=\"text-align: right;\">\n",
       "      <th></th>\n",
       "      <th>CallReportNum</th>\n",
       "      <th>ReportVersion</th>\n",
       "      <th>LinkedToCallReportNum</th>\n",
       "      <th>CallDateAndTimeStart</th>\n",
       "      <th>CallDateAndTimeEnd</th>\n",
       "      <th>CallLength</th>\n",
       "      <th>CallerNum</th>\n",
       "      <th>PhoneWorkerNum</th>\n",
       "      <th>WasRealCall</th>\n",
       "      <th>WasHangup</th>\n",
       "      <th>...</th>\n",
       "      <th>SMILE ON 60+ Screening - Treatment Urgency</th>\n",
       "      <th>SMILE ON 60+ Screening - Untreated Decay</th>\n",
       "      <th>SMILE ON 60+ Site Information - Enroller ID</th>\n",
       "      <th>SMILE ON 60+ Site Information - Enroller Location</th>\n",
       "      <th>SMILE ON 60+ Treatment Plan - Action: Upload After Picture on Finish Tab</th>\n",
       "      <th>SMILE ON 60+ Treatment Plan - Is the treatment plan completed?</th>\n",
       "      <th>SMILE ON 60+ Treatment Plan - Was a treatment plan developed?</th>\n",
       "      <th>SMILE ON 60+ Treatment Plan - Was the enrollee able to be restored to function (can chew) and \"social six\" esthetics (top front six teeth are present and disease free)</th>\n",
       "      <th>SMILE ON 60+ Verification of Eligibility - Transportation Arranged</th>\n",
       "      <th>SMILE ON 60+ Verification of Eligibility - Verification of Eligibility</th>\n",
       "    </tr>\n",
       "  </thead>\n",
       "  <tbody>\n",
       "    <tr>\n",
       "      <th>0</th>\n",
       "      <td>81381827</td>\n",
       "      <td>SMILE ON 60+ Registration</td>\n",
       "      <td>NaN</td>\n",
       "      <td>11/25/2020 16:46</td>\n",
       "      <td>11/25/2020 16:48</td>\n",
       "      <td>2</td>\n",
       "      <td>3859874</td>\n",
       "      <td>136529</td>\n",
       "      <td>NaN</td>\n",
       "      <td>NaN</td>\n",
       "      <td>...</td>\n",
       "      <td>NaN</td>\n",
       "      <td>NaN</td>\n",
       "      <td>Matthew Walker Comprehensive Health Center Inc...</td>\n",
       "      <td>Provider Site</td>\n",
       "      <td>NaN</td>\n",
       "      <td>NaN</td>\n",
       "      <td>NaN</td>\n",
       "      <td>NaN</td>\n",
       "      <td>NaN</td>\n",
       "      <td>NaN</td>\n",
       "    </tr>\n",
       "  </tbody>\n",
       "</table>\n",
       "<p>1 rows × 184 columns</p>\n",
       "</div>"
      ],
      "text/plain": [
       "   CallReportNum              ReportVersion  LinkedToCallReportNum  \\\n",
       "0       81381827  SMILE ON 60+ Registration                    NaN   \n",
       "\n",
       "  CallDateAndTimeStart CallDateAndTimeEnd  CallLength  CallerNum  \\\n",
       "0     11/25/2020 16:46   11/25/2020 16:48           2    3859874   \n",
       "\n",
       "   PhoneWorkerNum  WasRealCall  WasHangup  ...  \\\n",
       "0          136529          NaN        NaN  ...   \n",
       "\n",
       "   SMILE ON 60+ Screening - Treatment Urgency  \\\n",
       "0                                         NaN   \n",
       "\n",
       "   SMILE ON 60+ Screening - Untreated Decay  \\\n",
       "0                                       NaN   \n",
       "\n",
       "         SMILE ON 60+ Site Information - Enroller ID  \\\n",
       "0  Matthew Walker Comprehensive Health Center Inc...   \n",
       "\n",
       "   SMILE ON 60+ Site Information - Enroller Location  \\\n",
       "0                                      Provider Site   \n",
       "\n",
       "   SMILE ON 60+ Treatment Plan - Action: Upload After Picture on Finish Tab  \\\n",
       "0                                                NaN                          \n",
       "\n",
       "   SMILE ON 60+ Treatment Plan - Is the treatment plan completed?  \\\n",
       "0                                                NaN                \n",
       "\n",
       "  SMILE ON 60+ Treatment Plan - Was a treatment plan developed?  \\\n",
       "0                                                NaN              \n",
       "\n",
       "  SMILE ON 60+ Treatment Plan - Was the enrollee able to be restored to function (can chew) and \"social six\" esthetics (top front six teeth are present and disease free)  \\\n",
       "0                                                NaN                                                                                                                        \n",
       "\n",
       "  SMILE ON 60+ Verification of Eligibility - Transportation Arranged  \\\n",
       "0                                                NaN                   \n",
       "\n",
       "  SMILE ON 60+ Verification of Eligibility - Verification of Eligibility  \n",
       "0                                                NaN                      \n",
       "\n",
       "[1 rows x 184 columns]"
      ]
     },
     "execution_count": 16,
     "metadata": {},
     "output_type": "execute_result"
    }
   ],
   "source": [
    "smile= pd.read_csv('data/SmileOn11.28.2020.csv',encoding = \"ISO-8859-1\")\n",
    "smile.head(1)"
   ]
  },
  {
   "cell_type": "markdown",
   "metadata": {},
   "source": [
    "# Subset Data into new Data Frame"
   ]
  },
  {
   "cell_type": "code",
   "execution_count": 3,
   "metadata": {},
   "outputs": [],
   "source": [
    "smile_small = pd.DataFrame() "
   ]
  },
  {
   "cell_type": "markdown",
   "metadata": {},
   "source": [
    "#### -  Renaming Columns"
   ]
  },
  {
   "cell_type": "code",
   "execution_count": 4,
   "metadata": {},
   "outputs": [],
   "source": [
    "smile_small['ID'] = smile['CallerNum']"
   ]
  },
  {
   "cell_type": "code",
   "execution_count": 5,
   "metadata": {},
   "outputs": [],
   "source": [
    "smile_small['last_screening'] = smile['SMILE ON 60+ Screening - Last Screening Date']"
   ]
  },
  {
   "cell_type": "code",
   "execution_count": 6,
   "metadata": {},
   "outputs": [],
   "source": [
    "smile_small['care_provided'] = smile['SMILE ON 60+ Oral Care Encounter - What care was provided to the enrollee? (Select all that apply)']"
   ]
  },
  {
   "cell_type": "code",
   "execution_count": 7,
   "metadata": {},
   "outputs": [],
   "source": [
    "smile_small['clinic'] = smile['SMILE ON 60+ Site Information - Enroller ID']"
   ]
  },
  {
   "cell_type": "code",
   "execution_count": 8,
   "metadata": {},
   "outputs": [],
   "source": [
    "smile_small['plan_completed'] = smile['SMILE ON 60+ Treatment Plan - Is the treatment plan completed?']"
   ]
  },
  {
   "cell_type": "code",
   "execution_count": 9,
   "metadata": {},
   "outputs": [],
   "source": [
    "smile_small['plan_developed'] = smile['SMILE ON 60+ Treatment Plan - Was a treatment plan developed?']"
   ]
  },
  {
   "cell_type": "code",
   "execution_count": 10,
   "metadata": {},
   "outputs": [],
   "source": [
    "smile_small['function_restored'] = smile['SMILE ON 60+ Treatment Plan - Was the enrollee able to be restored to function (can chew) and \"social six\" esthetics (top front six teeth are present and disease free)']"
   ]
  },
  {
   "cell_type": "code",
   "execution_count": 11,
   "metadata": {},
   "outputs": [],
   "source": [
    "smile_small['last_visit'] = smile['SMILE ON 60+ Demographic Information - When is the last time you visited your dentist?']"
   ]
  },
  {
   "cell_type": "code",
   "execution_count": 12,
   "metadata": {},
   "outputs": [],
   "source": [
    "smile_small['trans_arranged'] = smile['SMILE ON 60+ Verification of Eligibility - Transportation Arranged']"
   ]
  },
  {
   "cell_type": "code",
   "execution_count": 13,
   "metadata": {},
   "outputs": [],
   "source": [
    "smile_small['eligible'] = smile['SMILE ON 60+ Verification of Eligibility - Verification of Eligibility']"
   ]
  },
  {
   "cell_type": "code",
   "execution_count": 14,
   "metadata": {},
   "outputs": [],
   "source": [
    "smile_small['trans_provided'] = smile['SMILE ON 60+ Clinic Information - Was initial transportation assistance or referral provided?']"
   ]
  },
  {
   "cell_type": "code",
   "execution_count": 18,
   "metadata": {},
   "outputs": [],
   "source": [
    "smile_small['all_barriers']= smile['SMILE ON 60+ Case Management Information - What barriers have kept you from finding a consistent dental home? (Select all that apply)']"
   ]
  },
  {
   "cell_type": "code",
   "execution_count": 21,
   "metadata": {},
   "outputs": [],
   "source": [
    "smile_small['income'] = smile['SMILE ON 60+ Demographic Information - Household Income Level']"
   ]
  },
  {
   "cell_type": "code",
   "execution_count": 24,
   "metadata": {},
   "outputs": [],
   "source": [
    "smile_small['last_visit'] = smile['SMILE ON 60+ Demographic Information - When is the last time you visited your dentist?']"
   ]
  },
  {
   "cell_type": "code",
   "execution_count": 27,
   "metadata": {},
   "outputs": [],
   "source": [
    "smile_small['version'] = smile['ReportVersion']"
   ]
  },
  {
   "cell_type": "code",
   "execution_count": 33,
   "metadata": {},
   "outputs": [],
   "source": [
    "smile_small['referral_status']= smile['SMILE ON 60+ Base-line Oral and Conditions Questions - Did the client commit to referral?']\n"
   ]
  },
  {
   "cell_type": "code",
   "execution_count": 34,
   "metadata": {},
   "outputs": [
    {
     "data": {
      "text/html": [
       "<div>\n",
       "<style scoped>\n",
       "    .dataframe tbody tr th:only-of-type {\n",
       "        vertical-align: middle;\n",
       "    }\n",
       "\n",
       "    .dataframe tbody tr th {\n",
       "        vertical-align: top;\n",
       "    }\n",
       "\n",
       "    .dataframe thead th {\n",
       "        text-align: right;\n",
       "    }\n",
       "</style>\n",
       "<table border=\"1\" class=\"dataframe\">\n",
       "  <thead>\n",
       "    <tr style=\"text-align: right;\">\n",
       "      <th></th>\n",
       "      <th>ID</th>\n",
       "      <th>last_screening</th>\n",
       "      <th>care_provided</th>\n",
       "      <th>clinic</th>\n",
       "      <th>plan_completed</th>\n",
       "      <th>plan_developed</th>\n",
       "      <th>function_restored</th>\n",
       "      <th>last_visit</th>\n",
       "      <th>trans_arranged</th>\n",
       "      <th>eligible</th>\n",
       "      <th>trans_provided</th>\n",
       "      <th>all_barriers</th>\n",
       "      <th>income</th>\n",
       "      <th>version</th>\n",
       "      <th>referral_status</th>\n",
       "    </tr>\n",
       "  </thead>\n",
       "  <tbody>\n",
       "    <tr>\n",
       "      <th>0</th>\n",
       "      <td>3859874</td>\n",
       "      <td>NaN</td>\n",
       "      <td>NaN</td>\n",
       "      <td>Matthew Walker Comprehensive Health Center Inc...</td>\n",
       "      <td>NaN</td>\n",
       "      <td>NaN</td>\n",
       "      <td>NaN</td>\n",
       "      <td>3 to 5 years</td>\n",
       "      <td>NaN</td>\n",
       "      <td>NaN</td>\n",
       "      <td>NaN</td>\n",
       "      <td>Transportation; Dental cost; No insurance</td>\n",
       "      <td>$0 - $21 280</td>\n",
       "      <td>SMILE ON 60+ Registration</td>\n",
       "      <td>Yes</td>\n",
       "    </tr>\n",
       "  </tbody>\n",
       "</table>\n",
       "</div>"
      ],
      "text/plain": [
       "        ID last_screening care_provided  \\\n",
       "0  3859874            NaN           NaN   \n",
       "\n",
       "                                              clinic plan_completed  \\\n",
       "0  Matthew Walker Comprehensive Health Center Inc...            NaN   \n",
       "\n",
       "  plan_developed function_restored    last_visit trans_arranged eligible  \\\n",
       "0            NaN               NaN  3 to 5 years            NaN      NaN   \n",
       "\n",
       "  trans_provided                               all_barriers        income  \\\n",
       "0            NaN  Transportation; Dental cost; No insurance  $0 - $21 280   \n",
       "\n",
       "                     version referral_status  \n",
       "0  SMILE ON 60+ Registration             Yes  "
      ]
     },
     "execution_count": 34,
     "metadata": {},
     "output_type": "execute_result"
    }
   ],
   "source": [
    "smile_small.head(1)"
   ]
  },
  {
   "cell_type": "markdown",
   "metadata": {},
   "source": [
    "#### - Value Counts of Columns"
   ]
  },
  {
   "cell_type": "code",
   "execution_count": 144,
   "metadata": {},
   "outputs": [
    {
     "data": {
      "text/plain": [
       "No     8127\n",
       "Yes    6149\n",
       "Name: function_restored, dtype: int64"
      ]
     },
     "execution_count": 144,
     "metadata": {},
     "output_type": "execute_result"
    }
   ],
   "source": [
    "smile_small.function_restored.value_counts()"
   ]
  },
  {
   "cell_type": "code",
   "execution_count": 187,
   "metadata": {},
   "outputs": [
    {
     "data": {
      "text/plain": [
       "No     3600\n",
       "Yes     175\n",
       "Name: trans_provided, dtype: int64"
      ]
     },
     "execution_count": 187,
     "metadata": {},
     "output_type": "execute_result"
    }
   ],
   "source": [
    "smile_small.trans_provided.value_counts()"
   ]
  },
  {
   "cell_type": "code",
   "execution_count": 145,
   "metadata": {},
   "outputs": [
    {
     "data": {
      "text/plain": [
       "-1          70\n",
       " 2441776    36\n",
       " 2431132    31\n",
       " 2416076    29\n",
       " 2466994    28\n",
       "            ..\n",
       " 3825101     1\n",
       " 3743280     1\n",
       " 2653820     1\n",
       " 3686036     1\n",
       " 3821558     1\n",
       "Name: ID, Length: 8708, dtype: int64"
      ]
     },
     "execution_count": 145,
     "metadata": {},
     "output_type": "execute_result"
    }
   ],
   "source": [
    "smile_small.ID.value_counts()"
   ]
  },
  {
   "cell_type": "code",
   "execution_count": 20,
   "metadata": {
    "scrolled": true
   },
   "outputs": [
    {
     "data": {
      "text/plain": [
       "Dental cost; No insurance                                                                            14479\n",
       "Dental cost                                                                                          10497\n",
       "No insurance                                                                                          2956\n",
       "Transportation; Dental cost; No insurance                                                             1213\n",
       "Transportation; Dental cost                                                                            952\n",
       "Dental cost; No insurance; Fear                                                                        812\n",
       "Dental cost; Fear                                                                                      614\n",
       "Dental cost; No insurance; Physical mobility and health                                                453\n",
       "Dental cost; Physical mobility and health                                                              386\n",
       "Fear                                                                                                   312\n",
       "Transportation                                                                                         312\n",
       "Transportation; Dental cost; No insurance; Fear                                                        177\n",
       "Transportation; Dental cost; Fear                                                                      170\n",
       "Transportation; Dental cost; No insurance; Physical mobility and health                                151\n",
       "No insurance; Fear                                                                                     126\n",
       "Physical mobility and health                                                                           120\n",
       "Dental cost; No insurance; Personal isolation                                                           99\n",
       "Transportation; No insurance                                                                            83\n",
       "Personal isolation                                                                                      75\n",
       "Transportation; Dental cost; Physical mobility and health                                               69\n",
       "Transportation; Dental cost; No insurance; Personal isolation; Fear; Physical mobility and health       69\n",
       "Dental cost; No insurance; Personal isolation; Fear; Physical mobility and health                       66\n",
       "Transportation; Dental cost; No insurance; Fear; Physical mobility and health                           45\n",
       "Dental cost; No insurance; Fear; Physical mobility and health                                           40\n",
       "Transportation; Dental cost; No insurance; Personal isolation; Fear                                     38\n",
       "No insurance; Physical mobility and health                                                              38\n",
       "Dental cost; No insurance; Personal isolation; Fear                                                     37\n",
       "Dental cost; Fear; Physical mobility and health                                                         33\n",
       "Dental cost; No insurance; Personal isolation; Physical mobility and health                             30\n",
       "Fear; Physical mobility and health                                                                      25\n",
       "Transportation; Dental cost; No insurance; Personal isolation; Physical mobility and health             24\n",
       "Transportation; Physical mobility and health                                                            20\n",
       "Transportation; No insurance; Physical mobility and health                                              16\n",
       "Dental cost; Personal isolation; Fear                                                                   15\n",
       "Transportation; Dental cost; No insurance; Personal isolation                                           14\n",
       "Transportation; Fear; Physical mobility and health                                                       9\n",
       "Dental cost; Personal isolation; Physical mobility and health                                            8\n",
       "Personal isolation; Physical mobility and health                                                         5\n",
       "Transportation; Dental cost; Fear; Physical mobility and health                                          5\n",
       "No insurance; Personal isolation                                                                         4\n",
       "Transportation; Dental cost; Personal isolation; Physical mobility and health                            3\n",
       "Dental cost; Personal isolation                                                                          3\n",
       "Transportation; Personal isolation; Fear                                                                 2\n",
       "No insurance; Fear; Physical mobility and health                                                         2\n",
       "Transportation; Personal isolation; Physical mobility and health                                         2\n",
       "Transportation; No insurance; Fear                                                                       2\n",
       "Transportation; No insurance; Personal isolation                                                         1\n",
       "No insurance; Personal isolation; Fear                                                                   1\n",
       "Transportation; Fear                                                                                     1\n",
       "Name: all_barriers, dtype: int64"
      ]
     },
     "execution_count": 20,
     "metadata": {},
     "output_type": "execute_result"
    }
   ],
   "source": [
    "smile_small.all_barriers.value_counts()"
   ]
  },
  {
   "cell_type": "code",
   "execution_count": 146,
   "metadata": {},
   "outputs": [
    {
     "data": {
      "text/plain": [
       "No     12431\n",
       "Yes     5104\n",
       "Name: plan_completed, dtype: int64"
      ]
     },
     "execution_count": 146,
     "metadata": {},
     "output_type": "execute_result"
    }
   ],
   "source": [
    "smile_small.plan_completed.value_counts()"
   ]
  },
  {
   "cell_type": "code",
   "execution_count": 147,
   "metadata": {},
   "outputs": [
    {
     "data": {
      "text/plain": [
       "Yes    15930\n",
       "No      1098\n",
       "Name: plan_developed, dtype: int64"
      ]
     },
     "execution_count": 147,
     "metadata": {},
     "output_type": "execute_result"
    }
   ],
   "source": [
    "smile_small.plan_developed.value_counts()"
   ]
  },
  {
   "cell_type": "code",
   "execution_count": 148,
   "metadata": {},
   "outputs": [
    {
     "data": {
      "text/plain": [
       "Less than 12 months    16751\n",
       "More than 5 years       8533\n",
       "1 to 2 years            7077\n",
       "3 to 5 years            4863\n",
       "Name: last_visit, dtype: int64"
      ]
     },
     "execution_count": 148,
     "metadata": {},
     "output_type": "execute_result"
    }
   ],
   "source": [
    "smile_small.last_visit.value_counts()"
   ]
  },
  {
   "cell_type": "code",
   "execution_count": 179,
   "metadata": {},
   "outputs": [
    {
     "data": {
      "text/plain": [
       "No     5483\n",
       "Yes     342\n",
       "Name: trans_arranged, dtype: int64"
      ]
     },
     "execution_count": 179,
     "metadata": {},
     "output_type": "execute_result"
    }
   ],
   "source": [
    "smile_small.trans_arranged.value_counts()"
   ]
  },
  {
   "cell_type": "code",
   "execution_count": 23,
   "metadata": {},
   "outputs": [
    {
     "data": {
      "text/plain": [
       "$0 - $21 280     28983\n",
       "$21246-$24280     5220\n",
       "$24281-$27315     1600\n",
       "$28806-$32920     1439\n",
       "$32921-$37035      429\n",
       "$36366-$41560      191\n",
       "$41561-$46755      151\n",
       "$50201-$56475       42\n",
       "$43926-$50200       40\n",
       "$51486-$58840       13\n",
       "$76121-$85635       12\n",
       "$59046-$67480       11\n",
       "$58841-$66195        9\n",
       "$84761-$95355        3\n",
       "$66606-$76120        3\n",
       "$67481-$75915        2\n",
       "Name: income, dtype: int64"
      ]
     },
     "execution_count": 23,
     "metadata": {},
     "output_type": "execute_result"
    }
   ],
   "source": [
    "smile_small.income.value_counts()"
   ]
  },
  {
   "cell_type": "code",
   "execution_count": 26,
   "metadata": {},
   "outputs": [
    {
     "data": {
      "text/plain": [
       "Less than 12 months    16751\n",
       "More than 5 years       8533\n",
       "1 to 2 years            7077\n",
       "3 to 5 years            4863\n",
       "Name: last_visit, dtype: int64"
      ]
     },
     "execution_count": 26,
     "metadata": {},
     "output_type": "execute_result"
    }
   ],
   "source": [
    "smile_small.last_visit.value_counts()"
   ]
  },
  {
   "cell_type": "code",
   "execution_count": 29,
   "metadata": {},
   "outputs": [
    {
     "data": {
      "text/plain": [
       "SMILE ON 60+ Clinical        27432\n",
       "SMILE ON 60+ Registration    12600\n",
       "Name: version, dtype: int64"
      ]
     },
     "execution_count": 29,
     "metadata": {},
     "output_type": "execute_result"
    }
   ],
   "source": [
    "smile_small.version.value_counts()"
   ]
  },
  {
   "cell_type": "code",
   "execution_count": 36,
   "metadata": {},
   "outputs": [
    {
     "data": {
      "text/plain": [
       "Yes    27818\n",
       "No      1436\n",
       "Name: referral_status, dtype: int64"
      ]
     },
     "execution_count": 36,
     "metadata": {},
     "output_type": "execute_result"
    }
   ],
   "source": [
    "smile_small.referral_status.value_counts()"
   ]
  },
  {
   "cell_type": "code",
   "execution_count": 149,
   "metadata": {},
   "outputs": [],
   "source": [
    "call_count = smile_small['ID'].value_counts().rename_axis('ID').reset_index(name='counts')"
   ]
  },
  {
   "cell_type": "code",
   "execution_count": 150,
   "metadata": {},
   "outputs": [
    {
     "data": {
      "text/html": [
       "<div>\n",
       "<style scoped>\n",
       "    .dataframe tbody tr th:only-of-type {\n",
       "        vertical-align: middle;\n",
       "    }\n",
       "\n",
       "    .dataframe tbody tr th {\n",
       "        vertical-align: top;\n",
       "    }\n",
       "\n",
       "    .dataframe thead th {\n",
       "        text-align: right;\n",
       "    }\n",
       "</style>\n",
       "<table border=\"1\" class=\"dataframe\">\n",
       "  <thead>\n",
       "    <tr style=\"text-align: right;\">\n",
       "      <th></th>\n",
       "      <th>ID</th>\n",
       "      <th>counts</th>\n",
       "    </tr>\n",
       "  </thead>\n",
       "  <tbody>\n",
       "    <tr>\n",
       "      <th>0</th>\n",
       "      <td>-1</td>\n",
       "      <td>70</td>\n",
       "    </tr>\n",
       "    <tr>\n",
       "      <th>1</th>\n",
       "      <td>2441776</td>\n",
       "      <td>36</td>\n",
       "    </tr>\n",
       "    <tr>\n",
       "      <th>2</th>\n",
       "      <td>2431132</td>\n",
       "      <td>31</td>\n",
       "    </tr>\n",
       "    <tr>\n",
       "      <th>3</th>\n",
       "      <td>2416076</td>\n",
       "      <td>29</td>\n",
       "    </tr>\n",
       "    <tr>\n",
       "      <th>4</th>\n",
       "      <td>2466994</td>\n",
       "      <td>28</td>\n",
       "    </tr>\n",
       "  </tbody>\n",
       "</table>\n",
       "</div>"
      ],
      "text/plain": [
       "        ID  counts\n",
       "0       -1      70\n",
       "1  2441776      36\n",
       "2  2431132      31\n",
       "3  2416076      29\n",
       "4  2466994      28"
      ]
     },
     "execution_count": 150,
     "metadata": {},
     "output_type": "execute_result"
    }
   ],
   "source": [
    "call_count.head()"
   ]
  },
  {
   "cell_type": "code",
   "execution_count": null,
   "metadata": {},
   "outputs": [],
   "source": []
  },
  {
   "cell_type": "code",
   "execution_count": null,
   "metadata": {},
   "outputs": [],
   "source": []
  },
  {
   "cell_type": "code",
   "execution_count": null,
   "metadata": {},
   "outputs": [],
   "source": []
  },
  {
   "cell_type": "code",
   "execution_count": null,
   "metadata": {},
   "outputs": [],
   "source": []
  }
 ],
 "metadata": {
  "kernelspec": {
   "display_name": "Python 3",
   "language": "python",
   "name": "python3"
  },
  "language_info": {
   "codemirror_mode": {
    "name": "ipython",
    "version": 3
   },
   "file_extension": ".py",
   "mimetype": "text/x-python",
   "name": "python",
   "nbconvert_exporter": "python",
   "pygments_lexer": "ipython3",
   "version": "3.8.3"
  }
 },
 "nbformat": 4,
 "nbformat_minor": 4
}
